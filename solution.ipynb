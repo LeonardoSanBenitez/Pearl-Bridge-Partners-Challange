{
 "cells": [
  {
   "cell_type": "markdown",
   "metadata": {},
   "source": [
    "# Problem definition\n",
    "Being $D$ the number of days and $S$ the list of sellers, each seller with the properties $price \\in \\mathbb{N}$ and $when \\in \\mathbb{N}$, the list $days$ have to each day $d\\in \\{d\\in \\mathbb{N} : d\\leq D\\}$ the seller $s \\in S$ such that $s.price$ is minimum and $s.when \\in (d - 30, d]$.\n",
    "\n",
    "The list $days$ provides an easy interpretation of the purchasing plan, and it will have the following format:\n",
    "\n",
    "`days = [[when_1, price_1],[when_2, price_2], ... , [when_D, price_D]]`\n",
    "\n",
    "The first 10 loaves have zero price and do not need to be bought from any seller and to solve the problem we should count the number of times we bought from each seller. The intuition behind this reasoning is very simple: we'll have to buy 1 loaf of bread every day, and we can \"buy\" from any seller that visited us in the last 30 days.\n",
    "\n",
    "# Complexity\n",
    "The time complexity [1] of this algorithm is $O(|S| + |S|*D)$ because it first builts the $days$ list iterating through the list $S$ and then iterates it again using the count method, which has $O(n)$ complexity [2].\n",
    "That is, quadratic time $O(n^2)$\n",
    "\n",
    "The spatial complexity is $O(D)$, because the list $days$ have $d$ element. That is, linear storage $O(n)$.\n",
    "\n",
    "# References\n",
    "[1] - Thomas H. Cormen, Charles E. Leiserson, Ronald L. Rivest, and Clifford Stein. 2009. Introduction to Algorithms, Third Edition (3rd ed.). The MIT Press.\n",
    "[2] - Berk Özbalcı. Stack Overflow answer. Available in: https://stackoverflow.com/a/44813154/12555523"
   ]
  },
  {
   "cell_type": "code",
   "execution_count": 52,
   "metadata": {},
   "outputs": [],
   "source": [
    "def calculate_purchasing_plan(total_days, sellers):\n",
    "    days = [[None,0]]*10 + [[None,float(\"inf\")]]*(total_days-10)\n",
    "    expiracy = 30\n",
    "    for seller in sellers:\n",
    "        days[seller[0]:seller[0]+expiracy] = list(\n",
    "            map(lambda x: seller if seller[1]<x[1] else x, days[seller[0]:seller[0]+expiracy]))\n",
    "    #print('\\n'.join('{}: {}'.format(*k) for k in enumerate(days)))\n",
    "    if [None,float(\"inf\")] in days: return None\n",
    "    return [days.count(seller) for seller in sellers]"
   ]
  },
  {
   "cell_type": "code",
   "execution_count": 53,
   "metadata": {},
   "outputs": [
    {
     "name": "stdout",
     "output_type": "stream",
     "text": [
      "[5, 30, 5, 10]\n"
     ]
    }
   ],
   "source": [
    "print(calculate_purchasing_plan(60, [(10,200), (15,100), (35,500), (50,30)]))\n",
    "#Expected answer: [5, 30, 5, 10]"
   ]
  },
  {
   "cell_type": "code",
   "execution_count": 54,
   "metadata": {},
   "outputs": [
    {
     "name": "stdout",
     "output_type": "stream",
     "text": [
      "None\n"
     ]
    }
   ],
   "source": [
    "print(calculate_purchasing_plan(600, [(10,200), (15,100), (35,500), (50,30)]))\n",
    "#Expected answer: none (no possible solution)"
   ]
  },
  {
   "cell_type": "code",
   "execution_count": 55,
   "metadata": {},
   "outputs": [
    {
     "name": "stdout",
     "output_type": "stream",
     "text": [
      "None\n"
     ]
    }
   ],
   "source": [
    "print(calculate_purchasing_plan(61, [(0,10),(30,200)]))\n",
    "#Expected answer: none (no possible solution)"
   ]
  },
  {
   "cell_type": "code",
   "execution_count": 56,
   "metadata": {},
   "outputs": [
    {
     "name": "stdout",
     "output_type": "stream",
     "text": [
      "[20, 30, 0]\n"
     ]
    }
   ],
   "source": [
    "print(calculate_purchasing_plan(60, [(0,10),(30,-10),(3,10)]))\n",
    "#Expected answer: [20, 30, 0]"
   ]
  },
  {
   "cell_type": "code",
   "execution_count": 57,
   "metadata": {},
   "outputs": [
    {
     "name": "stdout",
     "output_type": "stream",
     "text": [
      "None\n"
     ]
    }
   ],
   "source": [
    "print(calculate_purchasing_plan(30, [(-10,10),(20,-10)]))\n",
    "#Expected answer: none (because seller.when should be a natural number)"
   ]
  }
 ],
 "metadata": {
  "kernelspec": {
   "display_name": "Python 3",
   "language": "python",
   "name": "python3"
  },
  "language_info": {
   "codemirror_mode": {
    "name": "ipython",
    "version": 3
   },
   "file_extension": ".py",
   "mimetype": "text/x-python",
   "name": "python",
   "nbconvert_exporter": "python",
   "pygments_lexer": "ipython3",
   "version": "3.7.4"
  }
 },
 "nbformat": 4,
 "nbformat_minor": 2
}
