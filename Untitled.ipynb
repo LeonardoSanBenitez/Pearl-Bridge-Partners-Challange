{
 "cells": [
  {
   "cell_type": "code",
   "execution_count": 47,
   "metadata": {},
   "outputs": [
    {
     "name": "stdout",
     "output_type": "stream",
     "text": [
      "[5, 30, 5, 10]\n"
     ]
    }
   ],
   "source": [
    "def calculate_purchasing_plan(total_days, sellers):\n",
    "    days = [[None,0]]*10 + [[None,float(\"inf\")]]*(total_days-10)\n",
    "    expiracy = 30\n",
    "    for seller in sellers:\n",
    "        days[seller[0]:seller[0]+expiracy] = list(\n",
    "            map(lambda x: seller if seller[1]<x[1] else x, days[seller[0]:seller[0]+expiracy]))\n",
    "    if [None,float(\"inf\")] in days: return None\n",
    "    return [days.count(seller) for seller in sellers]\n",
    "\n",
    "print (calculate_purchasing_plan(60, [(10,200), (15,100), (35,500), (50,30)]))\n",
    "#[5, 30, 5, 10]\n"
   ]
  }
 ],
 "metadata": {
  "kernelspec": {
   "display_name": "Python 3",
   "language": "python",
   "name": "python3"
  },
  "language_info": {
   "codemirror_mode": {
    "name": "ipython",
    "version": 3
   },
   "file_extension": ".py",
   "mimetype": "text/x-python",
   "name": "python",
   "nbconvert_exporter": "python",
   "pygments_lexer": "ipython3",
   "version": "3.7.4"
  }
 },
 "nbformat": 4,
 "nbformat_minor": 2
}
